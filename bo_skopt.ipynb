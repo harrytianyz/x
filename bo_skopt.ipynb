{
 "cells": [
  {
   "cell_type": "code",
   "execution_count": 4,
   "metadata": {},
   "outputs": [],
   "source": [
    "import numpy as np\n",
    "import pandas as pd\n",
    "import matplotlib.pyplot as plt\n",
    "\n",
    "import seaborn as sns\n",
    "import itertools\n",
    "sns.set(style=\"whitegrid\", font_scale=1.5)\n",
    "import sys\n",
    "# sys.path.append(\"../\")\n",
    "\n",
    "import benchmarks\n",
    "from qm import QueryManager\n",
    "import argparse\n",
    "import time\n",
    "\n",
    "\n",
    "import skopt\n",
    "from opt_skopt import optimize"
   ]
  },
  {
   "cell_type": "code",
   "execution_count": 5,
   "metadata": {},
   "outputs": [],
   "source": [
    "dataset = 'adult'\n",
    "workload = 64\n",
    "marginal = 3\n",
    "epsilon=0.25\n",
    "max_iter = 10"
   ]
  },
  {
   "cell_type": "code",
   "execution_count": 6,
   "metadata": {},
   "outputs": [],
   "source": [
    "data, workloads = benchmarks.randomKway(dataset, workload, marginal)\n",
    "N = data.df.shape[0]\n",
    "stime = time.time()\n",
    "query_manager = QueryManager(data.domain, workloads)"
   ]
  },
  {
   "cell_type": "code",
   "execution_count": 7,
   "metadata": {},
   "outputs": [
    {
     "name": "stderr",
     "output_type": "stream",
     "text": [
      "  7%|▋         | 2/28 [00:02<00:27,  1.05s/it]\n",
      " 10%|▉         | 2/21 [00:01<00:16,  1.18it/s]\n",
      " 25%|██▌       | 4/16 [00:05<00:17,  1.46s/it]\n",
      "  6%|▋         | 2/32 [00:01<00:25,  1.18it/s]\n",
      "  0%|          | 2/489 [00:01<07:19,  1.11it/s]\n",
      "100%|██████████| 9/9 [00:18<00:00,  2.09s/it]\n",
      "100%|██████████| 10/10 [00:22<00:00,  2.24s/it]\n",
      "100%|██████████| 10/10 [00:31<00:00,  3.14s/it]\n",
      "100%|██████████| 10/10 [00:29<00:00,  2.92s/it]\n",
      "100%|██████████| 9/9 [00:24<00:00,  2.68s/it]\n"
     ]
    }
   ],
   "source": [
    "opt =  optimize(data=data,\n",
    "                     query_manager=query_manager,\n",
    "                     epsilon=epsilon,\n",
    "                     samples=200,\n",
    "                     max_iter=max_iter,\n",
    "                     timeout=30,\n",
    "                     show_plot=False)"
   ]
  },
  {
   "cell_type": "code",
   "execution_count": 13,
   "metadata": {},
   "outputs": [],
   "source": [
    "fig = plt.figure()   \n",
    "ax = skopt.plots.plot_convergence(opt)\n",
    "plt.savefig('out.png')"
   ]
  },
  {
   "cell_type": "code",
   "execution_count": 16,
   "metadata": {},
   "outputs": [],
   "source": [
    "fig = plt.figure()   \n",
    "ax = skopt.plots.plot_evaluations(opt)\n",
    "plt.draw()"
   ]
  },
  {
   "cell_type": "code",
   "execution_count": 20,
   "metadata": {},
   "outputs": [],
   "source": [
    "fig = plt.figure(figsize=plt.figaspect(0.7)) \n",
    "skopt.plots.plot_objective(opt)\n",
    "plt.savefig('out.png')"
   ]
  },
  {
   "cell_type": "code",
   "execution_count": 28,
   "metadata": {},
   "outputs": [],
   "source": [
    "from mpl_toolkits.mplot3d import Axes3D\n",
    "\n",
    "ins = np.array(opt.x_iters)\n",
    "outs = opt.func_vals\n",
    "eps0 = ins[:,0]\n",
    "noise = ins[:,1]\n",
    "error = outs"
   ]
  },
  {
   "cell_type": "code",
   "execution_count": 29,
   "metadata": {},
   "outputs": [
    {
     "data": {
      "text/plain": [
       "array([0.75426375, 1.7751807 , 1.19639549, 2.19114798, 0.86667344,\n",
       "       1.27346922, 0.85603541, 0.75      , 3.        , 0.75      ])"
      ]
     },
     "execution_count": 29,
     "metadata": {},
     "output_type": "execute_result"
    }
   ],
   "source": [
    "noise"
   ]
  },
  {
   "cell_type": "code",
   "execution_count": 31,
   "metadata": {},
   "outputs": [
    {
     "name": "stderr",
     "output_type": "stream",
     "text": [
      "/Users/adamhuang/anaconda3/lib/python3.6/site-packages/ipykernel_launcher.py:1: RuntimeWarning: More than 20 figures have been opened. Figures created through the pyplot interface (`matplotlib.pyplot.figure`) are retained until explicitly closed and may consume too much memory. (To control this warning, see the rcParam `figure.max_open_warning`).\n",
      "  \"\"\"Entry point for launching an IPython kernel.\n"
     ]
    },
    {
     "data": {
      "text/plain": [
       "{0.001708905540832146: {0.75: 0.7207731051144507},\n",
       " 0.006682686356950824: {0.7542637463621724: 0.7207731051144507},\n",
       " 0.007112808143062447: {0.856035410115411: 0.5897178657712624},\n",
       " 0.008219499061269557: {0.8666734430979179: 0.7207731051144507},\n",
       " 0.009446649971241092: {1.1963954941935695: 0.7207731051144507},\n",
       " 0.011548483163805655: {1.273469215488333: 0.39560606725253533},\n",
       " 0.011689679154494544: {1.7751806962034267: 0.306008592588305},\n",
       " 0.011952735455184764: {2.1911479848418676: 0.3070525193044853},\n",
       " 0.01196776080835247: {3.0: 0.535309445966581}}"
      ]
     },
     "execution_count": 31,
     "metadata": {},
     "output_type": "execute_result"
    }
   ],
   "source": [
    "fig = plt.figure()\n",
    "ax = fig.add_subplot(111, projection='3d')\n",
    "Z_map = {}\n",
    "\n",
    "for i, (e,n) in enumerate(zip(eps0, noise)):\n",
    "    if e not in Z_map:\n",
    "        Z_map[e] = {}\n",
    "    Z_map[e][n] = error[i]"
   ]
  },
  {
   "cell_type": "code",
   "execution_count": 39,
   "metadata": {},
   "outputs": [
    {
     "data": {
      "text/plain": [
       "0.7207731051144507"
      ]
     },
     "execution_count": 39,
     "metadata": {},
     "output_type": "execute_result"
    }
   ],
   "source": [
    "Z_map[0.001708905540832146][0.75]"
   ]
  },
  {
   "cell_type": "code",
   "execution_count": 40,
   "metadata": {},
   "outputs": [
    {
     "ename": "KeyError",
     "evalue": "0.75",
     "output_type": "error",
     "traceback": [
      "\u001b[0;31m---------------------------------------------------------------------------\u001b[0m",
      "\u001b[0;31mKeyError\u001b[0m                                  Traceback (most recent call last)",
      "\u001b[0;32m<ipython-input-40-9786e37c6f07>\u001b[0m in \u001b[0;36m<module>\u001b[0;34m\u001b[0m\n\u001b[1;32m      2\u001b[0m \u001b[0mnoise\u001b[0m \u001b[0;34m=\u001b[0m \u001b[0mnp\u001b[0m\u001b[0;34m.\u001b[0m\u001b[0munique\u001b[0m\u001b[0;34m(\u001b[0m\u001b[0mnoise\u001b[0m\u001b[0;34m)\u001b[0m\u001b[0;34m\u001b[0m\u001b[0;34m\u001b[0m\u001b[0m\n\u001b[1;32m      3\u001b[0m \u001b[0mX\u001b[0m\u001b[0;34m,\u001b[0m \u001b[0mY\u001b[0m \u001b[0;34m=\u001b[0m \u001b[0mnp\u001b[0m\u001b[0;34m.\u001b[0m\u001b[0mmeshgrid\u001b[0m\u001b[0;34m(\u001b[0m\u001b[0meps0\u001b[0m\u001b[0;34m,\u001b[0m \u001b[0mnoise\u001b[0m\u001b[0;34m)\u001b[0m\u001b[0;34m\u001b[0m\u001b[0;34m\u001b[0m\u001b[0m\n\u001b[0;32m----> 4\u001b[0;31m \u001b[0mZ\u001b[0m \u001b[0;34m=\u001b[0m \u001b[0mnp\u001b[0m\u001b[0;34m.\u001b[0m\u001b[0marray\u001b[0m\u001b[0;34m(\u001b[0m\u001b[0;34m[\u001b[0m \u001b[0;34m[\u001b[0m \u001b[0mZ_map\u001b[0m\u001b[0;34m[\u001b[0m\u001b[0me\u001b[0m\u001b[0;34m]\u001b[0m\u001b[0;34m[\u001b[0m\u001b[0mn\u001b[0m\u001b[0;34m]\u001b[0m \u001b[0;32mfor\u001b[0m \u001b[0me\u001b[0m \u001b[0;32min\u001b[0m \u001b[0meps0\u001b[0m\u001b[0;34m]\u001b[0m  \u001b[0;32mfor\u001b[0m \u001b[0mn\u001b[0m \u001b[0;32min\u001b[0m \u001b[0mnoise\u001b[0m\u001b[0;34m]\u001b[0m\u001b[0;34m)\u001b[0m\u001b[0;34m\u001b[0m\u001b[0;34m\u001b[0m\u001b[0m\n\u001b[0m\u001b[1;32m      5\u001b[0m surf = ax.plot_surface(X, Y, Z, cmap=cm.coolwarm,\n\u001b[1;32m      6\u001b[0m                        linewidth=0, antialiased=False)\n",
      "\u001b[0;32m<ipython-input-40-9786e37c6f07>\u001b[0m in \u001b[0;36m<listcomp>\u001b[0;34m(.0)\u001b[0m\n\u001b[1;32m      2\u001b[0m \u001b[0mnoise\u001b[0m \u001b[0;34m=\u001b[0m \u001b[0mnp\u001b[0m\u001b[0;34m.\u001b[0m\u001b[0munique\u001b[0m\u001b[0;34m(\u001b[0m\u001b[0mnoise\u001b[0m\u001b[0;34m)\u001b[0m\u001b[0;34m\u001b[0m\u001b[0;34m\u001b[0m\u001b[0m\n\u001b[1;32m      3\u001b[0m \u001b[0mX\u001b[0m\u001b[0;34m,\u001b[0m \u001b[0mY\u001b[0m \u001b[0;34m=\u001b[0m \u001b[0mnp\u001b[0m\u001b[0;34m.\u001b[0m\u001b[0mmeshgrid\u001b[0m\u001b[0;34m(\u001b[0m\u001b[0meps0\u001b[0m\u001b[0;34m,\u001b[0m \u001b[0mnoise\u001b[0m\u001b[0;34m)\u001b[0m\u001b[0;34m\u001b[0m\u001b[0;34m\u001b[0m\u001b[0m\n\u001b[0;32m----> 4\u001b[0;31m \u001b[0mZ\u001b[0m \u001b[0;34m=\u001b[0m \u001b[0mnp\u001b[0m\u001b[0;34m.\u001b[0m\u001b[0marray\u001b[0m\u001b[0;34m(\u001b[0m\u001b[0;34m[\u001b[0m \u001b[0;34m[\u001b[0m \u001b[0mZ_map\u001b[0m\u001b[0;34m[\u001b[0m\u001b[0me\u001b[0m\u001b[0;34m]\u001b[0m\u001b[0;34m[\u001b[0m\u001b[0mn\u001b[0m\u001b[0;34m]\u001b[0m \u001b[0;32mfor\u001b[0m \u001b[0me\u001b[0m \u001b[0;32min\u001b[0m \u001b[0meps0\u001b[0m\u001b[0;34m]\u001b[0m  \u001b[0;32mfor\u001b[0m \u001b[0mn\u001b[0m \u001b[0;32min\u001b[0m \u001b[0mnoise\u001b[0m\u001b[0;34m]\u001b[0m\u001b[0;34m)\u001b[0m\u001b[0;34m\u001b[0m\u001b[0;34m\u001b[0m\u001b[0m\n\u001b[0m\u001b[1;32m      5\u001b[0m surf = ax.plot_surface(X, Y, Z, cmap=cm.coolwarm,\n\u001b[1;32m      6\u001b[0m                        linewidth=0, antialiased=False)\n",
      "\u001b[0;32m<ipython-input-40-9786e37c6f07>\u001b[0m in \u001b[0;36m<listcomp>\u001b[0;34m(.0)\u001b[0m\n\u001b[1;32m      2\u001b[0m \u001b[0mnoise\u001b[0m \u001b[0;34m=\u001b[0m \u001b[0mnp\u001b[0m\u001b[0;34m.\u001b[0m\u001b[0munique\u001b[0m\u001b[0;34m(\u001b[0m\u001b[0mnoise\u001b[0m\u001b[0;34m)\u001b[0m\u001b[0;34m\u001b[0m\u001b[0;34m\u001b[0m\u001b[0m\n\u001b[1;32m      3\u001b[0m \u001b[0mX\u001b[0m\u001b[0;34m,\u001b[0m \u001b[0mY\u001b[0m \u001b[0;34m=\u001b[0m \u001b[0mnp\u001b[0m\u001b[0;34m.\u001b[0m\u001b[0mmeshgrid\u001b[0m\u001b[0;34m(\u001b[0m\u001b[0meps0\u001b[0m\u001b[0;34m,\u001b[0m \u001b[0mnoise\u001b[0m\u001b[0;34m)\u001b[0m\u001b[0;34m\u001b[0m\u001b[0;34m\u001b[0m\u001b[0m\n\u001b[0;32m----> 4\u001b[0;31m \u001b[0mZ\u001b[0m \u001b[0;34m=\u001b[0m \u001b[0mnp\u001b[0m\u001b[0;34m.\u001b[0m\u001b[0marray\u001b[0m\u001b[0;34m(\u001b[0m\u001b[0;34m[\u001b[0m \u001b[0;34m[\u001b[0m \u001b[0mZ_map\u001b[0m\u001b[0;34m[\u001b[0m\u001b[0me\u001b[0m\u001b[0;34m]\u001b[0m\u001b[0;34m[\u001b[0m\u001b[0mn\u001b[0m\u001b[0;34m]\u001b[0m \u001b[0;32mfor\u001b[0m \u001b[0me\u001b[0m \u001b[0;32min\u001b[0m \u001b[0meps0\u001b[0m\u001b[0;34m]\u001b[0m  \u001b[0;32mfor\u001b[0m \u001b[0mn\u001b[0m \u001b[0;32min\u001b[0m \u001b[0mnoise\u001b[0m\u001b[0;34m]\u001b[0m\u001b[0;34m)\u001b[0m\u001b[0;34m\u001b[0m\u001b[0;34m\u001b[0m\u001b[0m\n\u001b[0m\u001b[1;32m      5\u001b[0m surf = ax.plot_surface(X, Y, Z, cmap=cm.coolwarm,\n\u001b[1;32m      6\u001b[0m                        linewidth=0, antialiased=False)\n",
      "\u001b[0;31mKeyError\u001b[0m: 0.75"
     ]
    }
   ],
   "source": [
    "eps0 = np.unique(eps0)\n",
    "noise = np.unique(noise)\n",
    "X, Y = np.meshgrid(eps0, noise)\n",
    "Z = np.array([ [ Z_map[e][n] for e in eps0]  for n in noise])\n",
    "surf = ax.plot_surface(X, Y, Z, cmap=cm.coolwarm,\n",
    "                       linewidth=0, antialiased=False)\n",
    "\n",
    "plt.show()"
   ]
  },
  {
   "cell_type": "code",
   "execution_count": null,
   "metadata": {},
   "outputs": [],
   "source": [
    "\n",
    "\n",
    "fig, ax = plt.subplots()\n",
    "\n",
    "x1_values = np.linspace(0.001, epsilon/20, 100)\n",
    "x2_values = np.linspace(0.75, 3, 100)\n",
    "x_ax, y_ax = np.meshgrid(x1_values, x2_values)\n",
    "vals = np.c_[x_ax.ravel(), y_ax.ravel()]\n",
    "fx = np.reshape([branin(val) for val in vals], (100, 100))\n",
    "\n",
    "cm = ax.pcolormesh(x_ax, y_ax, fx,\n",
    "                   norm=LogNorm(vmin=fx.min(),\n",
    "                                vmax=fx.max()))\n",
    "\n",
    "minima = np.array([[-np.pi, 12.275], [+np.pi, 2.275], [9.42478, 2.475]])\n",
    "ax.plot(minima[:, 0], minima[:, 1], \"r.\", markersize=14,\n",
    "        lw=0, label=\"Minima\")\n",
    "\n",
    "cb = fig.colorbar(cm)\n",
    "cb.set_label(\"f(x)\")\n",
    "\n",
    "ax.legend(loc=\"best\", numpoints=1)\n",
    "\n",
    "ax.set_xlabel(\"$X_0$\")\n",
    "ax.set_xlim([-5, 10])\n",
    "ax.set_ylabel(\"$X_1$\")\n",
    "ax.set_ylim([0, 15])\n",
    "\n",
    "\n"
   ]
  }
 ],
 "metadata": {
  "kernelspec": {
   "display_name": "Python 3",
   "language": "python",
   "name": "python3"
  },
  "language_info": {
   "codemirror_mode": {
    "name": "ipython",
    "version": 3
   },
   "file_extension": ".py",
   "mimetype": "text/x-python",
   "name": "python",
   "nbconvert_exporter": "python",
   "pygments_lexer": "ipython3",
   "version": "3.6.8"
  }
 },
 "nbformat": 4,
 "nbformat_minor": 2
}
